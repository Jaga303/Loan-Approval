{
 "cells": [
  {
   "cell_type": "code",
   "execution_count": 2,
   "id": "1760a710-c94d-48e1-9755-56f484a6aa73",
   "metadata": {},
   "outputs": [],
   "source": [
    "import pandas as pd\n",
    "import numpy as np\n",
    "import matplotlib.pyplot as plt\n",
    "import seaborn as sns"
   ]
  },
  {
   "cell_type": "code",
   "execution_count": 4,
   "id": "310bc691-3d00-4858-8142-9ddea727e7f2",
   "metadata": {},
   "outputs": [],
   "source": [
    "df = pd.read_csv(r'C:\\Users\\Home\\Downloads\\archive\\clientes.csv') "
   ]
  },
  {
   "cell_type": "code",
   "execution_count": 5,
   "id": "30c401c0-6065-4cc3-b5d0-1d90994601b9",
   "metadata": {},
   "outputs": [
    {
     "name": "stdout",
     "output_type": "stream",
     "text": [
      "  cod_cliente  sexo estado_civil dependentes      educacao empregado  renda  \\\n",
      "0    LP001002  Male           No           0      Graduate        No   5849   \n",
      "1    LP001003  Male          Yes           1      Graduate        No   4583   \n",
      "2    LP001005  Male          Yes           0      Graduate       Yes   3000   \n",
      "3    LP001006  Male          Yes           0  Not Graduate        No   2583   \n",
      "4    LP001008  Male           No           0      Graduate        No   6000   \n",
      "\n",
      "  renda_conjuge  emprestimo  prestacao_mensal  historico_credito imovel  \\\n",
      "0             0         NaN             360.0                1.0  Urban   \n",
      "1          1508       128.0             360.0                1.0  Rural   \n",
      "2             0        66.0             360.0                1.0  Urban   \n",
      "3          2358       120.0             360.0                1.0  Urban   \n",
      "4             0       141.0             360.0                1.0  Urban   \n",
      "\n",
      "  aprovacao_emprestimo  \n",
      "0                    Y  \n",
      "1                    N  \n",
      "2                    Y  \n",
      "3                    Y  \n",
      "4                    Y  \n",
      "<class 'pandas.core.frame.DataFrame'>\n",
      "RangeIndex: 614 entries, 0 to 613\n",
      "Data columns (total 13 columns):\n",
      " #   Column                Non-Null Count  Dtype  \n",
      "---  ------                --------------  -----  \n",
      " 0   cod_cliente           614 non-null    object \n",
      " 1   sexo                  601 non-null    object \n",
      " 2   estado_civil          611 non-null    object \n",
      " 3   dependentes           599 non-null    object \n",
      " 4   educacao              614 non-null    object \n",
      " 5   empregado             582 non-null    object \n",
      " 6   renda                 614 non-null    int64  \n",
      " 7   renda_conjuge         614 non-null    object \n",
      " 8   emprestimo            592 non-null    float64\n",
      " 9   prestacao_mensal      600 non-null    float64\n",
      " 10  historico_credito     564 non-null    float64\n",
      " 11  imovel                614 non-null    object \n",
      " 12  aprovacao_emprestimo  614 non-null    object \n",
      "dtypes: float64(3), int64(1), object(9)\n",
      "memory usage: 62.5+ KB\n",
      "None\n",
      "              renda  emprestimo  prestacao_mensal  historico_credito\n",
      "count    614.000000  592.000000         600.00000         564.000000\n",
      "mean    5403.459283  146.412162         342.00000           0.842199\n",
      "std     6109.041673   85.587325          65.12041           0.364878\n",
      "min      150.000000    9.000000          12.00000           0.000000\n",
      "25%     2877.500000  100.000000         360.00000           1.000000\n",
      "50%     3812.500000  128.000000         360.00000           1.000000\n",
      "75%     5795.000000  168.000000         360.00000           1.000000\n",
      "max    81000.000000  700.000000         480.00000           1.000000\n",
      "cod_cliente              0\n",
      "sexo                    13\n",
      "estado_civil             3\n",
      "dependentes             15\n",
      "educacao                 0\n",
      "empregado               32\n",
      "renda                    0\n",
      "renda_conjuge            0\n",
      "emprestimo              22\n",
      "prestacao_mensal        14\n",
      "historico_credito       50\n",
      "imovel                   0\n",
      "aprovacao_emprestimo     0\n",
      "dtype: int64\n"
     ]
    }
   ],
   "source": [
    "# Show first 5 rows\n",
    "print(df.head())\n",
    "\n",
    "# Check structure\n",
    "print(df.info())\n",
    "\n",
    "# Summary stats\n",
    "print(df.describe())\n",
    "\n",
    "# Check for missing values\n",
    "print(df.isnull().sum())\n"
   ]
  },
  {
   "cell_type": "code",
   "execution_count": 6,
   "id": "724b973a-bd2f-4775-873d-3e80af885183",
   "metadata": {},
   "outputs": [
    {
     "name": "stdout",
     "output_type": "stream",
     "text": [
      "Shape of dataset: (614, 13)\n",
      "\n",
      "Column names: ['cod_cliente', 'sexo', 'estado_civil', 'dependentes', 'educacao', 'empregado', 'renda', 'renda_conjuge', 'emprestimo', 'prestacao_mensal', 'historico_credito', 'imovel', 'aprovacao_emprestimo']\n",
      "\n",
      "Data Types:\n",
      " cod_cliente              object\n",
      "sexo                     object\n",
      "estado_civil             object\n",
      "dependentes              object\n",
      "educacao                 object\n",
      "empregado                object\n",
      "renda                     int64\n",
      "renda_conjuge            object\n",
      "emprestimo              float64\n",
      "prestacao_mensal        float64\n",
      "historico_credito       float64\n",
      "imovel                   object\n",
      "aprovacao_emprestimo     object\n",
      "dtype: object\n",
      "\n",
      "Missing Values:\n",
      " cod_cliente              0\n",
      "sexo                    13\n",
      "estado_civil             3\n",
      "dependentes             15\n",
      "educacao                 0\n",
      "empregado               32\n",
      "renda                    0\n",
      "renda_conjuge            0\n",
      "emprestimo              22\n",
      "prestacao_mensal        14\n",
      "historico_credito       50\n",
      "imovel                   0\n",
      "aprovacao_emprestimo     0\n",
      "dtype: int64\n"
     ]
    }
   ],
   "source": [
    "print(\"Shape of dataset:\", df.shape)\n",
    "print(\"\\nColumn names:\", df.columns.tolist())\n",
    "print(\"\\nData Types:\\n\", df.dtypes)\n",
    "print(\"\\nMissing Values:\\n\", df.isnull().sum())\n"
   ]
  },
  {
   "cell_type": "code",
   "execution_count": 17,
   "id": "bd7ca0aa-4b60-40cc-bb3f-f975223ca5ed",
   "metadata": {},
   "outputs": [
    {
     "data": {
      "image/png": "[encoded data removed]",
      "text/plain": [
       "<Figure size 1000x600 with 2 Axes>"
      ]
     },
     "metadata": {},
     "output_type": "display_data"
    }
   ],
   "source": [
    "df.columns = df.columns.str.strip().str.lower().str.replace(\" \", \"_\")\n",
    "\n",
    "# 4. Handle Missing Values Safely (check column existence first)\n",
    "for col in ['gender', 'married', 'dependents', 'self_employed', 'credit_history']:\n",
    "    if col in df.columns:\n",
    "        df[col].fillna(df[col].mode()[0], inplace=True)\n",
    "\n",
    "for col in ['loanamount', 'loan_amount_term']:\n",
    "    if col in df.columns:\n",
    "        df[col].fillna(df[col].median(), inplace=True)\n",
    "\n",
    "# 5. Plot Graphs for Analysis\n",
    "\n",
    "## 5.1 Loan Status Distribution\n",
    "if 'loan_status' in df.columns:\n",
    "    sns.countplot(x='loan_status', data=df, palette='Set2')\n",
    "    plt.title('Loan Approval Status Count')\n",
    "    plt.xlabel('Loan Status')\n",
    "    plt.ylabel('Count')\n",
    "    plt.show()\n",
    "\n",
    "## 5.2 Gender vs Loan Status\n",
    "if 'gender' in df.columns and 'loan_status' in df.columns:\n",
    "    sns.countplot(x='gender', hue='loan_status', data=df, palette='Set1')\n",
    "    plt.title('Loan Status by Gender')\n",
    "    plt.xlabel('Gender')\n",
    "    plt.ylabel('Count')\n",
    "    plt.show()\n",
    "\n",
    "## 5.3 Education vs Loan Status\n",
    "if 'education' in df.columns and 'loan_status' in df.columns:\n",
    "    sns.countplot(x='education', hue='loan_status', data=df, palette='Set3')\n",
    "    plt.title('Loan Status by Education')\n",
    "    plt.xlabel('Education')\n",
    "    plt.ylabel('Count')\n",
    "    plt.show()\n",
    "\n",
    "## 5.4 Property Area vs Loan Status\n",
    "if 'property_area' in df.columns and 'loan_status' in df.columns:\n",
    "    sns.countplot(x='property_area', hue='loan_status', data=df, palette='pastel')\n",
    "    plt.title('Loan Status by Property Area')\n",
    "    plt.xlabel('Property Area')\n",
    "    plt.ylabel('Count')\n",
    "    plt.show()\n",
    "\n",
    "## 5.5 Applicant Income Distribution\n",
    "if 'applicantincome' in df.columns:\n",
    "    sns.histplot(df['applicantincome'], kde=True, bins=30, color='skyblue')\n",
    "    plt.title('Applicant Income Distribution')\n",
    "    plt.xlabel('Applicant Income')\n",
    "    plt.ylabel('Frequency')\n",
    "    plt.show()\n",
    "\n",
    "## 5.6 Loan Amount Distribution\n",
    "if 'loanamount' in df.columns:\n",
    "    sns.histplot(df['loanamount'], kde=True, bins=30, color='orange')\n",
    "    plt.title('Loan Amount Distribution')\n",
    "    plt.xlabel('Loan Amount')\n",
    "    plt.ylabel('Frequency')\n",
    "    plt.show()\n",
    "\n",
    "## 5.7 Boxplot of Loan Amount by Education\n",
    "if 'loanamount' in df.columns and 'education' in df.columns:\n",
    "    sns.boxplot(x='education', y='loanamount', data=df, palette='coolwarm')\n",
    "    plt.title('Loan Amount by Education')\n",
    "    plt.xlabel('Education')\n",
    "    plt.ylabel('Loan Amount')\n",
    "    plt.show()\n",
    "\n",
    "## 5.8 Correlation Heatmap\n",
    "plt.figure(figsize=(10, 6))\n",
    "sns.heatmap(df.corr(numeric_only=True), annot=True, cmap='YlGnBu')\n",
    "plt.title('Correlation Matrix')\n",
    "plt.show()"
   ]
  },
  {
   "cell_type": "code",
   "execution_count": 21,
   "id": "6e008e6b-7c02-44c7-9422-09c63bd61e66",
   "metadata": {},
   "outputs": [
    {
     "name": "stdout",
     "output_type": "stream",
     "text": [
      "['cod_cliente', 'sexo', 'estado_civil', 'dependentes', 'educacao', 'empregado', 'renda', 'renda_conjuge', 'emprestimo', 'prestacao_mensal', 'historico_credito', 'imovel', 'aprovacao_emprestimo']\n"
     ]
    }
   ],
   "source": [
    "print(df.columns.tolist())\n"
   ]
  },
  {
   "cell_type": "code",
   "execution_count": 28,
   "id": "858f401a-a761-47cb-a468-23730e7eb768",
   "metadata": {},
   "outputs": [
    {
     "name": "stdout",
     "output_type": "stream",
     "text": [
      "['cod_cliente', 'sexo', 'estado_civil', 'dependentes', 'educacao', 'empregado', 'renda', 'renda_conjuge', 'emprestimo', 'prestacao_mensal', 'historico_credito', 'imovel', 'aprovacao_emprestimo']\n"
     ]
    }
   ],
   "source": [
    "df.columns = df.columns.str.strip().str.lower().str.replace(\" \", \"_\")\n",
    "print(df.columns.tolist())  # check again\n"
   ]
  },
  {
   "cell_type": "code",
   "execution_count": 29,
   "id": "5c702272-5c19-44e2-ad74-647431dd9ca2",
   "metadata": {},
   "outputs": [],
   "source": [
    "# Import libraries\n",
    "import pandas as pd\n",
    "import matplotlib.pyplot as plt"
   ]
  },
  {
   "cell_type": "code",
   "execution_count": 30,
   "id": "6da590b3-0ddb-4b6c-878b-65e5184d5be3",
   "metadata": {},
   "outputs": [],
   "source": [
    "# Load dataset\n",
    "df = pd.read_csv(r'C:\\Users\\Home\\Downloads\\archive\\clientes.csv') "
   ]
  },
  {
   "cell_type": "code",
   "execution_count": 31,
   "id": "b6b3bf36-6194-457c-808a-7df9e65fb1c3",
   "metadata": {},
   "outputs": [
    {
     "name": "stdout",
     "output_type": "stream",
     "text": [
      "First 5 Rows:\n",
      "   cod_cliente  sexo estado_civil dependentes      educacao empregado  renda  \\\n",
      "0    LP001002  Male           No           0      Graduate        No   5849   \n",
      "1    LP001003  Male          Yes           1      Graduate        No   4583   \n",
      "2    LP001005  Male          Yes           0      Graduate       Yes   3000   \n",
      "3    LP001006  Male          Yes           0  Not Graduate        No   2583   \n",
      "4    LP001008  Male           No           0      Graduate        No   6000   \n",
      "\n",
      "  renda_conjuge  emprestimo  prestacao_mensal  historico_credito imovel  \\\n",
      "0             0         NaN             360.0                1.0  Urban   \n",
      "1          1508       128.0             360.0                1.0  Rural   \n",
      "2             0        66.0             360.0                1.0  Urban   \n",
      "3          2358       120.0             360.0                1.0  Urban   \n",
      "4             0       141.0             360.0                1.0  Urban   \n",
      "\n",
      "  aprovacao_emprestimo  \n",
      "0                    Y  \n",
      "1                    N  \n",
      "2                    Y  \n",
      "3                    Y  \n",
      "4                    Y  \n"
     ]
    }
   ],
   "source": [
    "# Convert to DataFrame (already done by read_csv)\n",
    "# Display the first 5 rows\n",
    "print(\"First 5 Rows:\\n\", df.head())\n"
   ]
  },
  {
   "cell_type": "code",
   "execution_count": 32,
   "id": "315adb94-fe74-46bb-acb7-34696a185e6a",
   "metadata": {},
   "outputs": [
    {
     "name": "stdout",
     "output_type": "stream",
     "text": [
      "\n",
      "Description:\n",
      "               renda  emprestimo  prestacao_mensal  historico_credito\n",
      "count    614.000000  592.000000         600.00000         564.000000\n",
      "mean    5403.459283  146.412162         342.00000           0.842199\n",
      "std     6109.041673   85.587325          65.12041           0.364878\n",
      "min      150.000000    9.000000          12.00000           0.000000\n",
      "25%     2877.500000  100.000000         360.00000           1.000000\n",
      "50%     3812.500000  128.000000         360.00000           1.000000\n",
      "75%     5795.000000  168.000000         360.00000           1.000000\n",
      "max    81000.000000  700.000000         480.00000           1.000000\n"
     ]
    }
   ],
   "source": [
    "# Show basic statistical description\n",
    "print(\"\\nDescription:\\n\", df.describe())"
   ]
  },
  {
   "cell_type": "code",
   "execution_count": 33,
   "id": "2fb12000-12f2-41c8-8cd6-0a91999d2642",
   "metadata": {},
   "outputs": [
    {
     "name": "stdout",
     "output_type": "stream",
     "text": [
      "\n",
      "Columns:\n",
      " ['cod_cliente', 'sexo', 'estado_civil', 'dependentes', 'educacao', 'empregado', 'renda', 'renda_conjuge', 'emprestimo', 'prestacao_mensal', 'historico_credito', 'imovel', 'aprovacao_emprestimo']\n"
     ]
    }
   ],
   "source": [
    "# Show column names\n",
    "print(\"\\nColumns:\\n\", df.columns.tolist())"
   ]
  },
  {
   "cell_type": "code",
   "execution_count": 34,
   "id": "ca2ff3f3-42ef-4005-8d8e-f2c9853ce681",
   "metadata": {},
   "outputs": [
    {
     "name": "stdout",
     "output_type": "stream",
     "text": [
      "\n",
      "Info:\n",
      "<class 'pandas.core.frame.DataFrame'>\n",
      "RangeIndex: 614 entries, 0 to 613\n",
      "Data columns (total 13 columns):\n",
      " #   Column                Non-Null Count  Dtype  \n",
      "---  ------                --------------  -----  \n",
      " 0   cod_cliente           614 non-null    object \n",
      " 1   sexo                  601 non-null    object \n",
      " 2   estado_civil          611 non-null    object \n",
      " 3   dependentes           599 non-null    object \n",
      " 4   educacao              614 non-null    object \n",
      " 5   empregado             582 non-null    object \n",
      " 6   renda                 614 non-null    int64  \n",
      " 7   renda_conjuge         614 non-null    object \n",
      " 8   emprestimo            592 non-null    float64\n",
      " 9   prestacao_mensal      600 non-null    float64\n",
      " 10  historico_credito     564 non-null    float64\n",
      " 11  imovel                614 non-null    object \n",
      " 12  aprovacao_emprestimo  614 non-null    object \n",
      "dtypes: float64(3), int64(1), object(9)\n",
      "memory usage: 62.5+ KB\n",
      "None\n"
     ]
    }
   ],
   "source": [
    "# Show info\n",
    "print(\"\\nInfo:\")\n",
    "print(df.info())"
   ]
  },
  {
   "cell_type": "code",
   "execution_count": 35,
   "id": "12a828f4-85b6-4f1d-8a33-7abf1f466446",
   "metadata": {},
   "outputs": [],
   "source": [
    "# Clean column names (optional but useful for consistency)\n",
    "df.columns = df.columns.str.strip().str.lower().str.replace(\" \", \"_\")"
   ]
  },
  {
   "cell_type": "code",
   "execution_count": 36,
   "id": "db3698f9-1e61-49c3-9ff4-423c39b3037c",
   "metadata": {},
   "outputs": [
    {
     "name": "stdout",
     "output_type": "stream",
     "text": [
      "\n",
      "Cleaned Columns:\n",
      " ['cod_cliente', 'sexo', 'estado_civil', 'dependentes', 'educacao', 'empregado', 'renda', 'renda_conjuge', 'emprestimo', 'prestacao_mensal', 'historico_credito', 'imovel', 'aprovacao_emprestimo']\n"
     ]
    }
   ],
   "source": [
    "# Show updated column names\n",
    "print(\"\\nCleaned Columns:\\n\", df.columns.tolist())"
   ]
  },
  {
   "cell_type": "code",
   "execution_count": 37,
   "id": "6c51d03c-5515-4bba-9a46-36a72a57ea51",
   "metadata": {},
   "outputs": [
    {
     "ename": "KeyError",
     "evalue": "'applicantincome'",
     "output_type": "error",
     "traceback": [
      "\u001b[1;31m---------------------------------------------------------------------------\u001b[0m",
      "\u001b[1;31mKeyError\u001b[0m                                  Traceback (most recent call last)",
      "File \u001b[1;32m~\\anaconda3\\Lib\\site-packages\\pandas\\core\\indexes\\base.py:3805\u001b[0m, in \u001b[0;36mIndex.get_loc\u001b[1;34m(self, key)\u001b[0m\n\u001b[0;32m   3804\u001b[0m \u001b[38;5;28;01mtry\u001b[39;00m:\n\u001b[1;32m-> 3805\u001b[0m     \u001b[38;5;28;01mreturn\u001b[39;00m \u001b[38;5;28mself\u001b[39m\u001b[38;5;241m.\u001b[39m_engine\u001b[38;5;241m.\u001b[39mget_loc(casted_key)\n\u001b[0;32m   3806\u001b[0m \u001b[38;5;28;01mexcept\u001b[39;00m \u001b[38;5;167;01mKeyError\u001b[39;00m \u001b[38;5;28;01mas\u001b[39;00m err:\n",
      "File \u001b[1;32mindex.pyx:167\u001b[0m, in \u001b[0;36mpandas._libs.index.IndexEngine.get_loc\u001b[1;34m()\u001b[0m\n",
      "File \u001b[1;32mindex.pyx:196\u001b[0m, in \u001b[0;36mpandas._libs.index.IndexEngine.get_loc\u001b[1;34m()\u001b[0m\n",
      "File \u001b[1;32mpandas\\\\_libs\\\\hashtable_class_helper.pxi:7081\u001b[0m, in \u001b[0;36mpandas._libs.hashtable.PyObjectHashTable.get_item\u001b[1;34m()\u001b[0m\n",
      "File \u001b[1;32mpandas\\\\_libs\\\\hashtable_class_helper.pxi:7089\u001b[0m, in \u001b[0;36mpandas._libs.hashtable.PyObjectHashTable.get_item\u001b[1;34m()\u001b[0m\n",
      "\u001b[1;31mKeyError\u001b[0m: 'applicantincome'",
      "\nThe above exception was the direct cause of the following exception:\n",
      "\u001b[1;31mKeyError\u001b[0m                                  Traceback (most recent call last)",
      "Cell \u001b[1;32mIn[37], line 3\u001b[0m\n\u001b[0;32m      1\u001b[0m \u001b[38;5;66;03m# Plot line graph for Applicant Income\u001b[39;00m\n\u001b[0;32m      2\u001b[0m plt\u001b[38;5;241m.\u001b[39mfigure(figsize\u001b[38;5;241m=\u001b[39m(\u001b[38;5;241m10\u001b[39m, \u001b[38;5;241m4\u001b[39m))\n\u001b[1;32m----> 3\u001b[0m plt\u001b[38;5;241m.\u001b[39mplot(df[\u001b[38;5;124m'\u001b[39m\u001b[38;5;124mapplicantincome\u001b[39m\u001b[38;5;124m'\u001b[39m]\u001b[38;5;241m.\u001b[39mhead(\u001b[38;5;241m50\u001b[39m), color\u001b[38;5;241m=\u001b[39m\u001b[38;5;124m'\u001b[39m\u001b[38;5;124mblue\u001b[39m\u001b[38;5;124m'\u001b[39m)\n\u001b[0;32m      4\u001b[0m plt\u001b[38;5;241m.\u001b[39mtitle(\u001b[38;5;124m\"\u001b[39m\u001b[38;5;124mApplicant Income - First 50 Entries\u001b[39m\u001b[38;5;124m\"\u001b[39m)\n\u001b[0;32m      5\u001b[0m plt\u001b[38;5;241m.\u001b[39mxlabel(\u001b[38;5;124m\"\u001b[39m\u001b[38;5;124mApplicant Index\u001b[39m\u001b[38;5;124m\"\u001b[39m)\n",
      "File \u001b[1;32m~\\anaconda3\\Lib\\site-packages\\pandas\\core\\frame.py:4102\u001b[0m, in \u001b[0;36mDataFrame.__getitem__\u001b[1;34m(self, key)\u001b[0m\n\u001b[0;32m   4100\u001b[0m \u001b[38;5;28;01mif\u001b[39;00m \u001b[38;5;28mself\u001b[39m\u001b[38;5;241m.\u001b[39mcolumns\u001b[38;5;241m.\u001b[39mnlevels \u001b[38;5;241m>\u001b[39m \u001b[38;5;241m1\u001b[39m:\n\u001b[0;32m   4101\u001b[0m     \u001b[38;5;28;01mreturn\u001b[39;00m \u001b[38;5;28mself\u001b[39m\u001b[38;5;241m.\u001b[39m_getitem_multilevel(key)\n\u001b[1;32m-> 4102\u001b[0m indexer \u001b[38;5;241m=\u001b[39m \u001b[38;5;28mself\u001b[39m\u001b[38;5;241m.\u001b[39mcolumns\u001b[38;5;241m.\u001b[39mget_loc(key)\n\u001b[0;32m   4103\u001b[0m \u001b[38;5;28;01mif\u001b[39;00m is_integer(indexer):\n\u001b[0;32m   4104\u001b[0m     indexer \u001b[38;5;241m=\u001b[39m [indexer]\n",
      "File \u001b[1;32m~\\anaconda3\\Lib\\site-packages\\pandas\\core\\indexes\\base.py:3812\u001b[0m, in \u001b[0;36mIndex.get_loc\u001b[1;34m(self, key)\u001b[0m\n\u001b[0;32m   3807\u001b[0m     \u001b[38;5;28;01mif\u001b[39;00m \u001b[38;5;28misinstance\u001b[39m(casted_key, \u001b[38;5;28mslice\u001b[39m) \u001b[38;5;129;01mor\u001b[39;00m (\n\u001b[0;32m   3808\u001b[0m         \u001b[38;5;28misinstance\u001b[39m(casted_key, abc\u001b[38;5;241m.\u001b[39mIterable)\n\u001b[0;32m   3809\u001b[0m         \u001b[38;5;129;01mand\u001b[39;00m \u001b[38;5;28many\u001b[39m(\u001b[38;5;28misinstance\u001b[39m(x, \u001b[38;5;28mslice\u001b[39m) \u001b[38;5;28;01mfor\u001b[39;00m x \u001b[38;5;129;01min\u001b[39;00m casted_key)\n\u001b[0;32m   3810\u001b[0m     ):\n\u001b[0;32m   3811\u001b[0m         \u001b[38;5;28;01mraise\u001b[39;00m InvalidIndexError(key)\n\u001b[1;32m-> 3812\u001b[0m     \u001b[38;5;28;01mraise\u001b[39;00m \u001b[38;5;167;01mKeyError\u001b[39;00m(key) \u001b[38;5;28;01mfrom\u001b[39;00m \u001b[38;5;21;01merr\u001b[39;00m\n\u001b[0;32m   3813\u001b[0m \u001b[38;5;28;01mexcept\u001b[39;00m \u001b[38;5;167;01mTypeError\u001b[39;00m:\n\u001b[0;32m   3814\u001b[0m     \u001b[38;5;66;03m# If we have a listlike key, _check_indexing_error will raise\u001b[39;00m\n\u001b[0;32m   3815\u001b[0m     \u001b[38;5;66;03m#  InvalidIndexError. Otherwise we fall through and re-raise\u001b[39;00m\n\u001b[0;32m   3816\u001b[0m     \u001b[38;5;66;03m#  the TypeError.\u001b[39;00m\n\u001b[0;32m   3817\u001b[0m     \u001b[38;5;28mself\u001b[39m\u001b[38;5;241m.\u001b[39m_check_indexing_error(key)\n",
      "\u001b[1;31mKeyError\u001b[0m: 'applicantincome'"
     ]
    },
    {
     "data": {
      "text/plain": [
       "<Figure size 1000x400 with 0 Axes>"
      ]
     },
     "metadata": {},
     "output_type": "display_data"
    }
   ],
   "source": [
    "# Plot line graph for Applicant Income\n",
    "plt.figure(figsize=(10, 4))\n",
    "plt.plot(df['applicantincome'].head(50), color='blue')\n",
    "plt.title(\"Applicant Income - First 50 Entries\")\n",
    "plt.xlabel(\"Applicant Index\")\n",
    "plt.ylabel(\"Income\")\n",
    "plt.grid(True)\n",
    "plt.show()\n"
   ]
  },
  {
   "cell_type": "code",
   "execution_count": null,
   "id": "639c1cfe-f22f-4e16-983b-b07706c50488",
   "metadata": {},
   "outputs": [],
   "source": []
  }
 ],
 "metadata": {
  "kernelspec": {
   "display_name": "Python [conda env:base] *",
   "language": "python",
   "name": "conda-base-py"
  },
  "language_info": {
   "codemirror_mode": {
    "name": "ipython",
    "version": 3
   },
   "file_extension": ".py",
   "mimetype": "text/x-python",
   "name": "python",
   "nbconvert_exporter": "python",
   "pygments_lexer": "ipython3",
   "version": "3.12.7"
  }
 },
 "nbformat": 4,
 "nbformat_minor": 5
}
